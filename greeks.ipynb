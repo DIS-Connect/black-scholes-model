{
 "cells": [
  {
   "cell_type": "code",
   "execution_count": 7,
   "metadata": {},
   "outputs": [],
   "source": [
    "import numpy as np\n",
    "from scipy.stats import norm\n",
    "from py_vollib.black_scholes import black_scholes as bs \n",
    "from py_vollib.black_scholes.greeks.analytical import delta, gamma, vega, rho, theta"
   ]
  },
  {
   "cell_type": "code",
   "execution_count": null,
   "metadata": {},
   "outputs": [],
   "source": []
  },
  {
   "cell_type": "markdown",
   "metadata": {},
   "source": [
    "# Black Scholes Formula\n",
    "\n",
    "$C = \\Phi(d_1)S_t - \\Phi(d_2)Ke^{-rt}$\n",
    "\n",
    "$d_1 = \\frac{ln(\\frac{S_t}{K}) + (r + \\frac{\\sigma^2}{2})t)}{\\sigma \\sqrt{t}}$\n",
    "\n",
    "$d_2 = d_1 - \\sigma \\sqrt{t}$"
   ]
  },
  {
   "cell_type": "markdown",
   "metadata": {},
   "source": [
    "$\\frac{\\partial d_1}{\\partial \\sigma} = \\frac{rt-ln(\\frac{S_t}{K})}{\\sqrt{t}\\sigma^2} + \\frac{\\sqrt{t}}{2}$"
   ]
  },
  {
   "cell_type": "code",
   "execution_count": 10,
   "metadata": {},
   "outputs": [],
   "source": [
    "# black scholes model from model.ipynb\n",
    "\n",
    "def black_scholes(r, S, K, T, sigma, type):\n",
    "\n",
    "    d1 = (np.log(S/K) + (r+ sigma**2/2)*T)/(sigma*np.sqrt(T))\n",
    "\n",
    "    d2 = d1 - sigma*np.sqrt(T)\n",
    "\n",
    "    if type == \"CALL\":\n",
    "        price = S*norm.cdf(d1,0,1) - K*np.exp(-r*T)*norm.cdf(d2,0,1)\n",
    "    elif type == \"PUT\":\n",
    "        price = K*np.exp(-r*T)*norm.cdf(-d2,0,1) - S*norm.cdf(-d1, 0, 1)\n",
    "\n",
    "    return price\n"
   ]
  },
  {
   "cell_type": "code",
   "execution_count": 14,
   "metadata": {},
   "outputs": [
    {
     "name": "stdout",
     "output_type": "stream",
     "text": [
      "our call option price: 0.5132843798399405\n",
      "their call option price: 0.5132843798399411\n",
      "our put option price: 10.251133491653508\n",
      "their put option price: 10.2511334916535\n"
     ]
    }
   ],
   "source": [
    "# confirm our model\n",
    "\n",
    "r = 0.01    #risk free rate\n",
    "S = 30 \n",
    "K = 40\n",
    "T = 240/365\n",
    "sigma = 0.3\n",
    "type = \"CALL\"\n",
    "print(\"our call option price: \" + str(black_scholes(r, S, K, T, sigma, type)))\n",
    "print(\"correct call option price: \" + str(bs(\"c\", S, K, T, r, sigma)))\n",
    "\n",
    "\n",
    "type = \"PUT\"\n",
    "print(\"our put option price: \" + str(black_scholes(r, S, K, T, sigma, type)))\n",
    "print(\"correct put option price: \" + str(bs(\"p\", S, K, T, r, sigma)))"
   ]
  },
  {
   "cell_type": "markdown",
   "metadata": {},
   "source": [
    "# Delta\n",
    "Delta measures the rate of change of our option value $V$ with respect to the underliying asset: $\\Delta = \\frac{\\partial V}{\\partial S}$\n",
    "\n",
    "\n",
    "\n",
    "$\\Delta_{Call}= \\frac{\\partial (\\Phi(d_1)S - \\Phi(d_2)Ke^{-rt})}{\\partial S}$\n",
    "\n",
    "$= \\Phi (d_1) + S \\phi(d_1) \\frac{\\partial d_1}{\\partial S} - e^{-RT}K\\phi(d_2) \\frac{\\partial d_2}{\\partial S}$\n",
    "\n",
    "$= \\Phi(d_1) + S \\phi(d_1)\\frac{\\partial d_1}{\\partial S} - e^{-rT}K\\phi(d_2) \\frac{\\partial d_2}{\\partial S}$\n",
    "\n",
    "$= \\Phi(d_1) + S \\phi(d_1) \\frac{1}{S \\sigma \\sqrt{T}} - e^{-rT}K\\phi(d_2) \\frac{1}{S \\sigma \\sqrt{T}}$\n",
    "\n",
    "$= \\Phi(d_1) + \\frac{\\phi (d_1)}{\\sigma \\sqrt{T}}(1 - e^{(d_1^2 - d_2^2)/2} \\frac{K}{S e^{rT}})$\n",
    "\n",
    "$= \\Phi(d_1) + \\frac{\\phi (d_1)}{\\sigma \\sqrt{T}}(1 - \\frac{S e^{rT}}{K} \\frac{K}{S e^{rT}})$\n",
    "\n",
    "$= \\Phi(d_1)$\n",
    "\n",
    "\n",
    "\n",
    "\n",
    "Put-Call-Parity:\n",
    "\n",
    "$C + Ke^{-rT} = S + P$ \n",
    "\n",
    "$\\Leftrightarrow P = C  + Ke^{-rT} - S$\n",
    "\n",
    "$\\Leftrightarrow \\frac{\\partial P}{\\partial S} = \\frac{\\partial ( C  + Ke^{-rT} - S)}{\\partial S}$\n",
    "\n",
    "$\\Leftrightarrow \\Delta_{Put} = \\Delta_{Call} - 1 = \\Phi(d_1) - 1 = - \\Phi(-d_1)$\n",
    "\n"
   ]
  },
  {
   "cell_type": "code",
   "execution_count": 22,
   "metadata": {},
   "outputs": [
    {
     "name": "stdout",
     "output_type": "stream",
     "text": [
      "our call option delta: 0.15058613984880015\n",
      "correct call option delta: 0.15058613984880015\n",
      "our put option delta: -0.8494138601511998\n",
      "correct put option delta: -0.8494138601511998\n"
     ]
    }
   ],
   "source": [
    "def delta_black_scholes(r, S, K, T, sigma, type):\n",
    "\n",
    "    d1 = (np.log(S/K) + (r+ sigma**2/2)*T)/(sigma*np.sqrt(T))\n",
    "\n",
    "    if type == \"CALL\":\n",
    "        price = norm.cdf(d1,0,1)\n",
    "    elif type == \"PUT\":\n",
    "        price = -norm.cdf(-d1,0,1)\n",
    "\n",
    "    return price\n",
    "\n",
    "\n",
    "type = \"CALL\"\n",
    "print(\"our call option delta: \" + str(delta_black_scholes(r, S, K, T, sigma, type)))\n",
    "print(\"correct call option delta: \" + str(delta(\"c\", S, K, T, r, sigma)))\n",
    "\n",
    "\n",
    "type = \"PUT\"\n",
    "print(\"our put option delta: \" + str(delta_black_scholes(r, S, K, T, sigma, type)))\n",
    "print(\"correct put option delta: \" + str(delta(\"p\", S, K, T, r, sigma)))"
   ]
  },
  {
   "cell_type": "markdown",
   "metadata": {},
   "source": [
    "# Gamma\n",
    "\n",
    "Describes the rate of change between an option's delta $\\Delta$ and the underlying asset price. High Gamma indicates a high change in Delta if the price of the underlying asset changes. $\\Gamma = \\frac{\\partial \\Delta}{\\partial S}$\n",
    "\n",
    "\n",
    "$\\Gamma_{Call} = \\frac{\\partial (\\Phi(d_1))}{\\partial S}$"
   ]
  },
  {
   "cell_type": "markdown",
   "metadata": {},
   "source": [
    "$= \\phi(d_1) \\cdot \\frac{\\partial d_1}{\\partial S}$"
   ]
  },
  {
   "cell_type": "markdown",
   "metadata": {},
   "source": [
    "$=  \\frac{\\phi(d_1)}{S \\sigma \\sqrt{T}}$"
   ]
  },
  {
   "cell_type": "markdown",
   "metadata": {},
   "source": [
    "$\\Gamma_{Put} = \\frac{\\partial ( - \\Phi( - d_1))}{\\partial S}$"
   ]
  },
  {
   "cell_type": "markdown",
   "metadata": {},
   "source": [
    "$= -\\phi(d_1) \\cdot -\\frac{\\partial d_1}{\\partial S}$"
   ]
  },
  {
   "cell_type": "markdown",
   "metadata": {},
   "source": [
    "$=  \\frac{\\phi(d_1)}{S \\sigma \\sqrt{T}}$"
   ]
  },
  {
   "cell_type": "code",
   "execution_count": 25,
   "metadata": {},
   "outputs": [
    {
     "name": "stdout",
     "output_type": "stream",
     "text": [
      "our call option gamma: 0.03203161102008452\n",
      "correct call option gamma: 0.03203161102008452\n",
      "our put option gamma: 0.03203161102008452\n",
      "correct put option gamma: 0.03203161102008452\n"
     ]
    }
   ],
   "source": [
    "def gamma_black_scholes(r, S, K, T, sigma, type):\n",
    "\n",
    "    d1 = (np.log(S/K) + (r+ sigma**2/2)*T)/(sigma*np.sqrt(T))\n",
    "\n",
    "    if type == \"CALL\":\n",
    "        price = norm.pdf(d1,0,1)/(S * sigma * np.sqrt(T))\n",
    "    elif type == \"PUT\":\n",
    "        price = norm.pdf(d1,0,1)/(S * sigma * np.sqrt(T))\n",
    "\n",
    "    return price\n",
    "\n",
    "\n",
    "type = \"CALL\"\n",
    "print(\"our call option gamma: \" + str(gamma_black_scholes(r, S, K, T, sigma, type)))\n",
    "print(\"correct call option gamma: \" + str(gamma(\"c\", S, K, T, r, sigma)))\n",
    "\n",
    "\n",
    "type = \"PUT\"\n",
    "print(\"our put option gamma: \" + str(gamma_black_scholes(r, S, K, T, sigma, type)))\n",
    "print(\"correct put option gamma: \" + str(gamma(\"p\", S, K, T, r, sigma)))"
   ]
  },
  {
   "cell_type": "markdown",
   "metadata": {},
   "source": [
    "# Vega\n",
    "\n",
    "Descirbes the rat of change between the options value and the volatility. Thus $\\Lambda = \\frac{\\partial V}{\\partial \\sigma}$\n",
    "\n",
    "$\\Lambda_{Call}= \\frac{\\partial (\\Phi(d_1)S - \\Phi(d_2)Ke^{-rt})}{\\partial \\sigma}$\n"
   ]
  },
  {
   "cell_type": "markdown",
   "metadata": {},
   "source": [
    "$= S\\phi(d_1) \\frac{\\partial d_1}{\\partial \\sigma} - Ke^{-rt} \\phi(d_2) \\frac{\\partial d_2}{\\partial \\sigma}$"
   ]
  },
  {
   "cell_type": "markdown",
   "metadata": {},
   "source": [
    "$\\frac{\\partial d_1}{\\partial \\sigma} = \\frac{rt-ln(\\frac{S_t}{K})}{\\sqrt{t}\\sigma^2} + \\frac{\\sqrt{t}}{2}$"
   ]
  },
  {
   "cell_type": "markdown",
   "metadata": {},
   "source": [
    "$= S\\phi(d_1) \\frac{\\partial d_1}{\\partial \\sigma} - Ke^{-rt} \\phi(d_2) \\frac{\\partial d_2}{\\partial \\sigma}$"
   ]
  },
  {
   "cell_type": "markdown",
   "metadata": {},
   "source": []
  },
  {
   "cell_type": "markdown",
   "metadata": {},
   "source": []
  },
  {
   "cell_type": "markdown",
   "metadata": {},
   "source": []
  },
  {
   "cell_type": "markdown",
   "metadata": {},
   "source": []
  },
  {
   "cell_type": "code",
   "execution_count": 23,
   "metadata": {},
   "outputs": [
    {
     "ename": "SyntaxError",
     "evalue": "invalid syntax (3583367249.py, line 1)",
     "output_type": "error",
     "traceback": [
      "\u001b[0;36m  Cell \u001b[0;32mIn[23], line 1\u001b[0;36m\u001b[0m\n\u001b[0;31m    $= \\phi(d_1) \\cdot \\frac{\\partial }{\\partial S}$\u001b[0m\n\u001b[0m    ^\u001b[0m\n\u001b[0;31mSyntaxError\u001b[0m\u001b[0;31m:\u001b[0m invalid syntax\n"
     ]
    }
   ],
   "source": []
  }
 ],
 "metadata": {
  "kernelspec": {
   "display_name": "Python 3.11.3 64-bit",
   "language": "python",
   "name": "python3"
  },
  "language_info": {
   "codemirror_mode": {
    "name": "ipython",
    "version": 3
   },
   "file_extension": ".py",
   "mimetype": "text/x-python",
   "name": "python",
   "nbconvert_exporter": "python",
   "pygments_lexer": "ipython3",
   "version": "3.11.3"
  },
  "orig_nbformat": 4,
  "vscode": {
   "interpreter": {
    "hash": "b0fa6594d8f4cbf19f97940f81e996739fb7646882a419484c72d19e05852a7e"
   }
  }
 },
 "nbformat": 4,
 "nbformat_minor": 2
}
