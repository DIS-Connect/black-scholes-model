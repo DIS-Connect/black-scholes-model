{
 "cells": [
  {
   "cell_type": "code",
   "execution_count": 7,
   "metadata": {},
   "outputs": [],
   "source": [
    "import numpy as np\n",
    "from scipy.stats import norm\n",
    "from py_vollib.black_scholes import black_scholes as bs \n",
    "from py_vollib.black_scholes.greeks.analytical import delta, gamma, vega, rho, theta"
   ]
  },
  {
   "cell_type": "code",
   "execution_count": 10,
   "metadata": {},
   "outputs": [],
   "source": [
    "# black scholes model from model.ipynb\n",
    "\n",
    "def black_scholes(r, S, K, T, sigma, type):\n",
    "\n",
    "    d1 = (np.log(S/K) + (r+ sigma**2/2)*T)/(sigma*np.sqrt(T))\n",
    "\n",
    "    d2 = d1 - sigma*np.sqrt(T)\n",
    "\n",
    "    if type == \"CALL\":\n",
    "        price = S*norm.cdf(d1,0,1) - K*np.exp(-r*T)*norm.cdf(d2,0,1)\n",
    "    elif type == \"PUT\":\n",
    "        price = K*np.exp(-r*T)*norm.cdf(-d2,0,1) - S*norm.cdf(-d1, 0, 1)\n",
    "\n",
    "    return price\n"
   ]
  },
  {
   "cell_type": "code",
   "execution_count": 11,
   "metadata": {},
   "outputs": [
    {
     "name": "stdout",
     "output_type": "stream",
     "text": [
      "our option price: 10.251133491653508\n"
     ]
    }
   ],
   "source": [
    "# confirm our model\n",
    "\n",
    "r = 0.01    #risk free rate\n",
    "S = 30 \n",
    "K = 40\n",
    "T = 240/365\n",
    "sigma = 0.3\n",
    "type = \"PUT\"\n",
    "print(\"our option price: \" + str(black_scholes(r, S, K, T, sigma, type)))"
   ]
  }
 ],
 "metadata": {
  "kernelspec": {
   "display_name": "Python 3.11.3 64-bit",
   "language": "python",
   "name": "python3"
  },
  "language_info": {
   "codemirror_mode": {
    "name": "ipython",
    "version": 3
   },
   "file_extension": ".py",
   "mimetype": "text/x-python",
   "name": "python",
   "nbconvert_exporter": "python",
   "pygments_lexer": "ipython3",
   "version": "3.11.3"
  },
  "orig_nbformat": 4,
  "vscode": {
   "interpreter": {
    "hash": "b0fa6594d8f4cbf19f97940f81e996739fb7646882a419484c72d19e05852a7e"
   }
  }
 },
 "nbformat": 4,
 "nbformat_minor": 2
}
